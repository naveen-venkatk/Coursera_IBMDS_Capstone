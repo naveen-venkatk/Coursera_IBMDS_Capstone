{
    "cells": [
        {
            "cell_type": "markdown",
            "metadata": {
                "collapsed": true
            },
            "source": "## Bangalore Neighborhood Restaurants Analysis"
        },
        {
            "cell_type": "markdown",
            "metadata": {},
            "source": "## Introduction"
        },
        {
            "cell_type": "markdown",
            "metadata": {},
            "source": "Bangalore is the capital and the largest city of the Indian state of Karnataka. It has a population of more than 8 million and a metropolitan population of around 11 million. Bangalore is widely regarded as the \"Silicon Valley of India\" (or \"IT capital of India\") and has rich demographic diversity from people all over India and is a melting pot of different cultures. Bangalore is also famous for its Restaurants and boasts a variety of restaurant types from fast food eataries serving local cusines to Indian multi cusine restaurants,Pizza/Burger Joints,Cafes,speciality cusines from across world etc. This study is aimed at exploring type of restaurants in different Bangalore neighborhoods and clustering them. Chosing a perfect neigborhood to open a new restaurant can be challenging with kind of restaurant density in Bangalore. With the help of four square data, hopefully that becomes a little easier."
        },
        {
            "cell_type": "markdown",
            "metadata": {},
            "source": "## Target Audience"
        },
        {
            "cell_type": "markdown",
            "metadata": {},
            "source": "1. People living/visting bangalore and interested in exploring Bangalore's neighborhoods and restaurant diversity.\n2. Food Bloggers interested in exploring different restaurants/cusines in Bangalore and presenting that to their audience. \n3. Business owners looking to setting up Restaurants to introduce new cusines or expand their existing Franchises across locations.\n"
        }
    ],
    "metadata": {
        "kernelspec": {
            "display_name": "Python 3.7",
            "language": "python",
            "name": "python3"
        },
        "language_info": {
            "codemirror_mode": {
                "name": "ipython",
                "version": 3
            },
            "file_extension": ".py",
            "mimetype": "text/x-python",
            "name": "python",
            "nbconvert_exporter": "python",
            "pygments_lexer": "ipython3",
            "version": "3.7.9"
        }
    },
    "nbformat": 4,
    "nbformat_minor": 1
}